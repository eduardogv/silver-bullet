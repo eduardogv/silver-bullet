{
 "cells": [
  {
   "cell_type": "code",
   "execution_count": 1,
   "metadata": {},
   "outputs": [],
   "source": [
    "# Import libraries\n",
    "\n",
    "import pandas as pd\n",
    "from lightweight_charts import Chart\n",
    "import zipfile\n",
    "import os\n",
    "import matplotlib.pyplot as plt\n",
    "import numpy as np"
   ]
  },
  {
   "cell_type": "code",
   "execution_count": 2,
   "metadata": {},
   "outputs": [],
   "source": [
    "# Read data from my backtest file as csv or zip OHLC de mi data oanda\n",
    "\n",
    "m1_data_path = \"US100_M1_202403110100_202403192359.csv\"\n",
    "m5_data_path = \"US100_M5_202403110100_202403192355.csv\"\n"
   ]
  },
  {
   "cell_type": "markdown",
   "metadata": {},
   "source": [
    "Function to clean and prepare data "
   ]
  },
  {
   "cell_type": "code",
   "execution_count": 44,
   "metadata": {},
   "outputs": [],
   "source": [
    "def prep_data(csv_path):\n",
    "    df= pd.read_csv(csv_path, sep='\\s+')\n",
    "    df['<DATETIME>'] = pd.to_datetime(df['<DATE>'] + ' ' + df['<TIME>'])\n",
    "    df = df[['<DATETIME>','<OPEN>', '<HIGH>', '<LOW>', '<CLOSE>']]\n",
    "    df_renamed = df.rename(columns={\"<DATETIME>\":\"time\", \"<OPEN>\":\"open\", \"<HIGH>\":\"high\", \"<LOW>\":\"low\", \"<CLOSE>\":\"close\"})\n",
    "    df_renamed.set_index('time', inplace=True)\n",
    "    return df_renamed\n"
   ]
  },
  {
   "cell_type": "code",
   "execution_count": 45,
   "metadata": {},
   "outputs": [],
   "source": [
    "m5_data = prep_data(m5_data_path)\n",
    "m1_data = prep_data(m1_data_path)"
   ]
  },
  {
   "cell_type": "code",
   "execution_count": 47,
   "metadata": {},
   "outputs": [
    {
     "data": {
      "text/html": [
       "<div>\n",
       "<style scoped>\n",
       "    .dataframe tbody tr th:only-of-type {\n",
       "        vertical-align: middle;\n",
       "    }\n",
       "\n",
       "    .dataframe tbody tr th {\n",
       "        vertical-align: top;\n",
       "    }\n",
       "\n",
       "    .dataframe thead th {\n",
       "        text-align: right;\n",
       "    }\n",
       "</style>\n",
       "<table border=\"1\" class=\"dataframe\">\n",
       "  <thead>\n",
       "    <tr style=\"text-align: right;\">\n",
       "      <th></th>\n",
       "      <th>open</th>\n",
       "      <th>high</th>\n",
       "      <th>low</th>\n",
       "      <th>close</th>\n",
       "    </tr>\n",
       "    <tr>\n",
       "      <th>time</th>\n",
       "      <th></th>\n",
       "      <th></th>\n",
       "      <th></th>\n",
       "      <th></th>\n",
       "    </tr>\n",
       "  </thead>\n",
       "  <tbody>\n",
       "    <tr>\n",
       "      <th>2024-03-11 01:00:00</th>\n",
       "      <td>18024.7</td>\n",
       "      <td>18027.4</td>\n",
       "      <td>18023.8</td>\n",
       "      <td>18023.9</td>\n",
       "    </tr>\n",
       "    <tr>\n",
       "      <th>2024-03-11 01:01:00</th>\n",
       "      <td>18025.3</td>\n",
       "      <td>18027.3</td>\n",
       "      <td>18008.2</td>\n",
       "      <td>18024.8</td>\n",
       "    </tr>\n",
       "    <tr>\n",
       "      <th>2024-03-11 01:02:00</th>\n",
       "      <td>18024.4</td>\n",
       "      <td>18025.4</td>\n",
       "      <td>18008.7</td>\n",
       "      <td>18008.9</td>\n",
       "    </tr>\n",
       "    <tr>\n",
       "      <th>2024-03-11 01:03:00</th>\n",
       "      <td>18009.3</td>\n",
       "      <td>18013.6</td>\n",
       "      <td>18000.8</td>\n",
       "      <td>18002.3</td>\n",
       "    </tr>\n",
       "    <tr>\n",
       "      <th>2024-03-11 01:04:00</th>\n",
       "      <td>18002.8</td>\n",
       "      <td>18004.3</td>\n",
       "      <td>17983.4</td>\n",
       "      <td>17984.8</td>\n",
       "    </tr>\n",
       "    <tr>\n",
       "      <th>...</th>\n",
       "      <td>...</td>\n",
       "      <td>...</td>\n",
       "      <td>...</td>\n",
       "      <td>...</td>\n",
       "    </tr>\n",
       "    <tr>\n",
       "      <th>2024-03-19 23:55:00</th>\n",
       "      <td>18071.4</td>\n",
       "      <td>18071.4</td>\n",
       "      <td>18066.2</td>\n",
       "      <td>18066.8</td>\n",
       "    </tr>\n",
       "    <tr>\n",
       "      <th>2024-03-19 23:56:00</th>\n",
       "      <td>18066.9</td>\n",
       "      <td>18066.9</td>\n",
       "      <td>18064.0</td>\n",
       "      <td>18064.5</td>\n",
       "    </tr>\n",
       "    <tr>\n",
       "      <th>2024-03-19 23:57:00</th>\n",
       "      <td>18064.4</td>\n",
       "      <td>18065.0</td>\n",
       "      <td>18062.7</td>\n",
       "      <td>18063.1</td>\n",
       "    </tr>\n",
       "    <tr>\n",
       "      <th>2024-03-19 23:58:00</th>\n",
       "      <td>18063.5</td>\n",
       "      <td>18067.0</td>\n",
       "      <td>18063.0</td>\n",
       "      <td>18064.0</td>\n",
       "    </tr>\n",
       "    <tr>\n",
       "      <th>2024-03-19 23:59:00</th>\n",
       "      <td>18064.7</td>\n",
       "      <td>18066.2</td>\n",
       "      <td>18064.7</td>\n",
       "      <td>18066.0</td>\n",
       "    </tr>\n",
       "  </tbody>\n",
       "</table>\n",
       "<p>9660 rows × 4 columns</p>\n",
       "</div>"
      ],
      "text/plain": [
       "                        open     high      low    close\n",
       "time                                                   \n",
       "2024-03-11 01:00:00  18024.7  18027.4  18023.8  18023.9\n",
       "2024-03-11 01:01:00  18025.3  18027.3  18008.2  18024.8\n",
       "2024-03-11 01:02:00  18024.4  18025.4  18008.7  18008.9\n",
       "2024-03-11 01:03:00  18009.3  18013.6  18000.8  18002.3\n",
       "2024-03-11 01:04:00  18002.8  18004.3  17983.4  17984.8\n",
       "...                      ...      ...      ...      ...\n",
       "2024-03-19 23:55:00  18071.4  18071.4  18066.2  18066.8\n",
       "2024-03-19 23:56:00  18066.9  18066.9  18064.0  18064.5\n",
       "2024-03-19 23:57:00  18064.4  18065.0  18062.7  18063.1\n",
       "2024-03-19 23:58:00  18063.5  18067.0  18063.0  18064.0\n",
       "2024-03-19 23:59:00  18064.7  18066.2  18064.7  18066.0\n",
       "\n",
       "[9660 rows x 4 columns]"
      ]
     },
     "execution_count": 47,
     "metadata": {},
     "output_type": "execute_result"
    }
   ],
   "source": [
    "m1_data"
   ]
  },
  {
   "cell_type": "code",
   "execution_count": null,
   "metadata": {},
   "outputs": [],
   "source": []
  },
  {
   "cell_type": "code",
   "execution_count": null,
   "metadata": {},
   "outputs": [],
   "source": []
  }
 ],
 "metadata": {
  "kernelspec": {
   "display_name": "Python 3",
   "language": "python",
   "name": "python3"
  },
  "language_info": {
   "codemirror_mode": {
    "name": "ipython",
    "version": 3
   },
   "file_extension": ".py",
   "mimetype": "text/x-python",
   "name": "python",
   "nbconvert_exporter": "python",
   "pygments_lexer": "ipython3",
   "version": "3.9.6"
  }
 },
 "nbformat": 4,
 "nbformat_minor": 2
}
